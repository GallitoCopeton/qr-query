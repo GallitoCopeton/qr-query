{
 "cells": [
  {
   "cell_type": "markdown",
   "metadata": {
    "deleteable": false,
    "editable": false
   },
   "source": [
    "# Correr esta celda al iniciar (una sola vez)"
   ]
  },
  {
   "cell_type": "code",
   "execution_count": 8,
   "metadata": {
    "deleteable": false
   },
   "outputs": [],
   "source": [
    "import sys\n",
    "import io\n",
    "import os\n",
    "import re\n",
    "import time\n",
    "import threading\n",
    "\n",
    "import cv2\n",
    "import numpy as np\n",
    "from pyzbar.pyzbar import decode\n",
    "import ipywidgets as widgets\n",
    "from IPython.display import display\n",
    "from PIL import Image\n",
    "from ipywidgets import Layout\n",
    "from matplotlib import pyplot as plt\n",
    "\n",
    "sys.path.insert(0, '../QR Query/Query QRs/Scripts')\n",
    "sys.path.insert(0, '../FIND/Golden Master (AS IS)')\n",
    "import qrQuery\n",
    "import readImage as ri\n",
    "from Browser import Browser\n",
    "from DataBrowser import DataBrowser\n",
    "\n",
    "# Widgets\n",
    "queryOption = widgets.ToggleButtons(\n",
    "    options=['Escribir QR', 'Seleccionar archivo', 'Rango QR'],\n",
    "    description='Búsqueda:',\n",
    "    disabled=False,\n",
    "    button_style='info', # 'success', 'info', 'warning', 'danger' or ''\n",
    ")\n",
    "defaultAmount = widgets.ToggleButton(\n",
    "    value=False,\n",
    "    description='Seleccionar un número predeterminado de imágenes a mostrar?',\n",
    "    disabled=False,\n",
    "    button_style='info', # 'success', 'info', 'warning', 'danger' or ''\n",
    "    tooltip='Description',\n",
    "    icon='check',\n",
    "    layout=Layout(width='50%', height='50px')\n",
    ")\n",
    "textQrs = widgets.Text(\n",
    "    value='',\n",
    "    placeholder='Escribe códigos QR válidos',\n",
    "    description='Códigos QR:',\n",
    "    disabled=False\n",
    ")\n",
    "uploads = widgets.FileUpload(\n",
    "    accept='.jpg',\n",
    "    multiple=True, # True to accept multiple files upload else False\n",
    "    description='Imagen'\n",
    ")\n",
    "textRange = widgets.Text(\n",
    "    value='',\n",
    "    placeholder='Código de inicio y de final',\n",
    "    description='Rangos QR:',\n",
    "    disabled=False\n",
    ")\n",
    "saveImages = widgets.ToggleButton(\n",
    "    value=False,\n",
    "    description='Guardar imágenes mostradas?',\n",
    "    disabled=False,\n",
    "    button_style='info', # 'success', 'info', 'warning', 'danger' or ''\n",
    "    tooltip='Description',\n",
    "    icon='check',\n",
    "    layout=Layout(width='50%', height='50px')\n",
    ")"
   ]
  },
  {
   "cell_type": "markdown",
   "metadata": {
    "deleteable": false,
    "editable": false
   },
   "source": [
    "# Elige cómo hacer la búsqueda"
   ]
  },
  {
   "cell_type": "code",
   "execution_count": 9,
   "metadata": {
    "deleteable": false
   },
   "outputs": [
    {
     "data": {
      "application/vnd.jupyter.widget-view+json": {
       "model_id": "efd1327181804903a7cb372191a4f814",
       "version_major": 2,
       "version_minor": 0
      },
      "text/plain": [
       "ToggleButtons(button_style='info', description='Búsqueda:', options=('Escribir QR', 'Seleccionar archivo', 'Ra…"
      ]
     },
     "metadata": {},
     "output_type": "display_data"
    },
    {
     "data": {
      "application/vnd.jupyter.widget-view+json": {
       "model_id": "4bf7e857e18e4208829ab5bd81d6c533",
       "version_major": 2,
       "version_minor": 0
      },
      "text/plain": [
       "ToggleButton(value=False, button_style='info', description='Seleccionar un número predeterminado de imágenes a…"
      ]
     },
     "metadata": {},
     "output_type": "display_data"
    },
    {
     "data": {
      "application/vnd.jupyter.widget-view+json": {
       "model_id": "03f664d9a46840f98b67bcc886df6027",
       "version_major": 2,
       "version_minor": 0
      },
      "text/plain": [
       "ToggleButton(value=False, button_style='info', description='Guardar imágenes mostradas?', icon='check', layout…"
      ]
     },
     "metadata": {},
     "output_type": "display_data"
    },
    {
     "name": "stdout",
     "output_type": "stream",
     "text": [
      "Después de seleccionar, corre la siguiente celda\n"
     ]
    }
   ],
   "source": [
    "display(queryOption)\n",
    "display(defaultAmount)\n",
    "display(saveImages)\n",
    "print('Después de seleccionar, corre la siguiente celda')"
   ]
  },
  {
   "cell_type": "markdown",
   "metadata": {
    "deleteable": false,
    "editable": false
   },
   "source": [
    "# Escribe QRs o sube imágenes"
   ]
  },
  {
   "cell_type": "code",
   "execution_count": 10,
   "metadata": {
    "deleteable": false,
    "editable": false,
    "scrolled": true
   },
   "outputs": [
    {
     "data": {
      "application/vnd.jupyter.widget-view+json": {
       "model_id": "52b4c5dc2b83465aa407e5b28616ed10",
       "version_major": 2,
       "version_minor": 0
      },
      "text/plain": [
       "Text(value='', description='Códigos QR:', placeholder='Escribe códigos QR válidos')"
      ]
     },
     "metadata": {},
     "output_type": "display_data"
    },
    {
     "name": "stdout",
     "output_type": "stream",
     "text": [
      "Puedes introducir varios separando con coma, espacio o coma y espacio\n",
      "Luego de terminar, corre la siguiente celda\n"
     ]
    }
   ],
   "source": [
    "if queryOption.value == 'Escribir QR':\n",
    "    display(textQrs)\n",
    "    print('Puedes introducir varios separando con coma, espacio o coma y espacio')\n",
    "elif queryOption.value == 'Seleccionar archivo':\n",
    "    display(uploads)\n",
    "    print('Selecciona una o varias imágenes de tu computadora')\n",
    "elif queryOption.value == 'Rango QR': \n",
    "    display(textRange)\n",
    "    print('Puedes separar los códigos con coma, espacio o coma y espacio')\n",
    "print('Luego de terminar, corre la siguiente celda')"
   ]
  },
  {
   "cell_type": "markdown",
   "metadata": {
    "deleteable": false,
    "editable": false
   },
   "source": [
    "# Comenzar búsqueda"
   ]
  },
  {
   "cell_type": "code",
   "execution_count": 12,
   "metadata": {
    "deleteable": false,
    "scrolled": false
   },
   "outputs": [
    {
     "name": "stdout",
     "output_type": "stream",
     "text": [
      "Los datos completos de los QR están en el archivo ./Query.csv\n",
      "Máximo de imágenes a mostrar? Presiona enter al final 0\n",
      "\n",
      "QR a analizar: 102190800201058\n"
     ]
    },
    {
     "data": {
      "text/html": [
       "<div>\n",
       "<style scoped>\n",
       "    .dataframe tbody tr th:only-of-type {\n",
       "        vertical-align: middle;\n",
       "    }\n",
       "\n",
       "    .dataframe tbody tr th {\n",
       "        vertical-align: top;\n",
       "    }\n",
       "\n",
       "    .dataframe thead th {\n",
       "        text-align: right;\n",
       "    }\n",
       "</style>\n",
       "<table border=\"1\" class=\"dataframe\">\n",
       "  <thead>\n",
       "    <tr style=\"text-align: right;\">\n",
       "      <th></th>\n",
       "      <th>No. Imagen</th>\n",
       "      <th>Validez</th>\n",
       "      <th>Fecha + 5hrs</th>\n",
       "      <th>Ciudad</th>\n",
       "      <th>Fecha Consulta</th>\n",
       "      <th>Base</th>\n",
       "      <th>QR</th>\n",
       "      <th>ESAT6</th>\n",
       "      <th>CFP10</th>\n",
       "      <th>RV1681</th>\n",
       "      <th>Control</th>\n",
       "    </tr>\n",
       "  </thead>\n",
       "  <tbody>\n",
       "    <tr>\n",
       "      <th>0</th>\n",
       "      <td>0</td>\n",
       "      <td>valid</td>\n",
       "      <td>2019-10-16 15:43</td>\n",
       "      <td>Ndola</td>\n",
       "      <td>2019-10-16T15:49</td>\n",
       "      <td>CLOUD</td>\n",
       "      <td>102190800201058</td>\n",
       "      <td>Positive</td>\n",
       "      <td>Negative</td>\n",
       "      <td>Negative</td>\n",
       "      <td>Negative</td>\n",
       "    </tr>\n",
       "  </tbody>\n",
       "</table>\n",
       "</div>"
      ],
      "text/plain": [
       "   No. Imagen Validez      Fecha + 5hrs Ciudad    Fecha Consulta   Base  \\\n",
       "0           0   valid  2019-10-16 15:43  Ndola  2019-10-16T15:49  CLOUD   \n",
       "\n",
       "                QR     ESAT6     CFP10    RV1681   Control  \n",
       "0  102190800201058  Positive  Negative  Negative  Negative  "
      ]
     },
     "metadata": {},
     "output_type": "display_data"
    },
    {
     "data": {
      "application/vnd.jupyter.widget-view+json": {
       "model_id": "36e254896ef04021b6f2bc065c1b7e1f",
       "version_major": 2,
       "version_minor": 0
      },
      "text/plain": [
       "Valid(value=True, description='QR válido')"
      ]
     },
     "metadata": {},
     "output_type": "display_data"
    },
    {
     "data": {
      "application/vnd.jupyter.widget-view+json": {
       "model_id": "4a417506e54e43e69b558124195be8f0",
       "version_major": 2,
       "version_minor": 0
      },
      "text/plain": [
       "Valid(value=True, description='Registros')"
      ]
     },
     "metadata": {},
     "output_type": "display_data"
    },
    {
     "name": "stdout",
     "output_type": "stream",
     "text": [
      "\n",
      "\n",
      "\n",
      "Búsqueda terminada\n"
     ]
    }
   ],
   "source": [
    "csvName = 'Query.csv'\n",
    "csvFolder = './'\n",
    "imagesFolder = './imagenes/'\n",
    "qrList = []\n",
    "if not os.path.isdir(csvFolder):\n",
    "    os.mkdir(csvFolder)\n",
    "if not os.path.isdir(imagesFolder):\n",
    "    os.mkdir(imagesFolder)\n",
    "csvFile = os.path.join(csvFolder, csvName)\n",
    "print('Los datos completos de los QR están en el archivo {}'.format(csvFile))\n",
    "if defaultAmount.value:\n",
    "    amount = qrQuery.askForAmount('Máximo de imágenes a mostrar? Presiona enter al final ')\n",
    "if queryOption.value == 'Escribir QR':\n",
    "    qrList = qrQuery.splitInputQrs(textQrs.value)\n",
    "    if not qrList:\n",
    "        print('El espacio de escritura está vacío')\n",
    "elif queryOption.value == 'Rango QR':\n",
    "    inputList = qr_query.splitInputQrs(textRange.value)\n",
    "    if inputList:\n",
    "        if len(inputList) == 2:\n",
    "            if inputList[0] > inputList[1]:\n",
    "                start = int(inputList[1])\n",
    "                finish = int(inputList[0])\n",
    "            else:\n",
    "                start = int(inputList[0])\n",
    "                finish = int(inputList[1])\n",
    "            qrList = np.arange(start, finish+1, 1)\n",
    "            qrList = [str(qr) for qr in qrList]\n",
    "        else:\n",
    "            print('Escribe un QR de inicio y uno de final\\n')\n",
    "    else:\n",
    "        print('El espacio de escritura está vacío')\n",
    "elif queryOption.value == 'Seleccionar archivo':\n",
    "    for upload in uploads.metadata:\n",
    "        fileName = upload['name']\n",
    "        imageBytes = uploads.value[upload['name']]['content']\n",
    "        imageBytes = io.BytesIO(imageBytes)\n",
    "        image = Image.open(imageBytes)\n",
    "        qr = str(decode(image)[0][0])[2:-1]\n",
    "        qrList.append(qr)\n",
    "    if len(qrList) == 0:\n",
    "        print('Ningún QR pudo ser detectado\\n')\n",
    "    elif len(qrList) < len(uploads.metadata):\n",
    "        print('No todos los QR pudieron detectarse\\n')\n",
    "\n",
    "for qr in qrList:\n",
    "    qr = qrQuery.fixQr(qr)\n",
    "    dataExistsWidget = widgets.Valid(\n",
    "    value=False,\n",
    "    description='Registros',\n",
    "    )\n",
    "    imagesExistsWidget = widgets.Valid(\n",
    "        value=False,\n",
    "        description='Imágenes',\n",
    "    )\n",
    "    validQrWidget = widgets.Valid(\n",
    "        value=False,\n",
    "        description='QR válido',\n",
    "    )\n",
    "    print('\\nQR a analizar: {}'.format(qr))\n",
    "    if qrQuery.isValidQr(qr):\n",
    "        validQrWidget.value = True\n",
    "        # DATA GATHERING\n",
    "        data = qrQuery.getData(qr)\n",
    "        if not qrQuery.isNone(data):\n",
    "            dataExistsWidget.value = True\n",
    "            data.to_csv(csvFile, mode='a', header=False, index=False) \n",
    "        # IMAGES GATHERING\n",
    "        if 'amount' in locals(): \n",
    "            if amount > 0:\n",
    "                images = queryQr.getImages(qr)\n",
    "                nImages = len(images)\n",
    "                if nImages > 0:    \n",
    "                    imagesExistsWidget.value = True\n",
    "                    ri.showImages(images[0:amount])\n",
    "                    if saveImages.value:\n",
    "                        for image in images[0:amount]:\n",
    "                            imageName = '{}{}_{}.png'.format(imagesFolder, qr, str(image['count']))\n",
    "                            plt.imsave(imageName, cv2.cvtColor(image['image'], cv2.COLOR_BGR2RGB))\n",
    "                display(imagesExistsWidget)\n",
    "            else:\n",
    "                pass\n",
    "        elif 'amount' not in locals():\n",
    "            images = qrQuery.getImages(qr)\n",
    "            nImages = len(images)\n",
    "            if nImages > 0:  \n",
    "                imagesExistsWidget.value = True\n",
    "                prompt = 'Existen {} fotos, cuántas quieres ver? '.format(nImages)\n",
    "                amount = qrQuery.askForAmount(prompt)\n",
    "                ri.showImages(images[0:amount])\n",
    "                del amount\n",
    "                if saveImages.value:\n",
    "                    for image in images[0:amount]:\n",
    "                        imageName = '{}{}_{}.png'.format(imagesFolder, qr, str(image['count']))\n",
    "                        plt.imsave(imageName, cv2.cvtColor(image['image'], cv2.COLOR_BGR2RGB))\n",
    "            display(imagesExistsWidget)\n",
    "    else:\n",
    "        validQrWidget.value = False\n",
    "        print('El QR: {} es inválido'.format(qr))\n",
    "        continue\n",
    "    display(validQrWidget)\n",
    "    display(dataExistsWidget)\n",
    "    print('\\n\\n')\n",
    "if 'amount' in locals():\n",
    "    del amount\n",
    "print('Búsqueda terminada')"
   ]
  },
  {
   "cell_type": "code",
   "execution_count": null,
   "metadata": {},
   "outputs": [],
   "source": []
  }
 ],
 "metadata": {
  "celltoolbar": "Edit Metadata",
  "kernelspec": {
   "display_name": "Python 3",
   "language": "python",
   "name": "python3"
  },
  "language_info": {
   "codemirror_mode": {
    "name": "ipython",
    "version": 3
   },
   "file_extension": ".py",
   "mimetype": "text/x-python",
   "name": "python",
   "nbconvert_exporter": "python",
   "pygments_lexer": "ipython3",
   "version": "3.5.2"
  }
 },
 "nbformat": 4,
 "nbformat_minor": 2
}
