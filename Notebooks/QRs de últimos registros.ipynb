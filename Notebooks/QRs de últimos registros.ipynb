{
 "cells": [
  {
   "cell_type": "code",
   "execution_count": 1,
   "metadata": {},
   "outputs": [],
   "source": [
    "import sys\n",
    "sys.path.insert(0, '../QR Query/Query QRs/Scripts')\n",
    "sys.path.insert(0, '../FIND/Golden Master (AS IS)')\n",
    "import qrQuery"
   ]
  },
  {
   "cell_type": "markdown",
   "metadata": {},
   "source": [
    "# QRs de los registros más recientes de IMÁGENES"
   ]
  },
  {
   "cell_type": "code",
   "execution_count": 3,
   "metadata": {},
   "outputs": [
    {
     "name": "stdout",
     "output_type": "stream",
     "text": [
      "Introduce el número de pruebas: 10\n",
      "\n",
      "Los qrs dentro de los últimos 10 registros de IMÁGENES son: ['102190800201058', '102190300100021']\n",
      "\n",
      "Los qrs están ordenados el primero como el más reciente\n"
     ]
    }
   ],
   "source": [
    "n = input('Introduce el número de pruebas: ')\n",
    "foundQrs = qrQuery.getLatestImagesQrs(int(n))\n",
    "print('\\nLos qrs dentro de los últimos {} registros de IMÁGENES son: {}'.format(n,list(foundQrs)))\n",
    "print('\\nLos qrs están ordenados el primero como el más reciente')"
   ]
  },
  {
   "cell_type": "markdown",
   "metadata": {},
   "source": [
    "# QRs de los registros más recientes de DATOS"
   ]
  },
  {
   "cell_type": "code",
   "execution_count": 4,
   "metadata": {},
   "outputs": [
    {
     "name": "stdout",
     "output_type": "stream",
     "text": [
      "Introduce el número de pruebas: 1\n",
      "\n",
      "Los qrs dentro de los últimos 1 registros de DATOS son: ['102190800201058']\n",
      "\n",
      "Los qrs están ordenados el primero como el más reciente\n"
     ]
    }
   ],
   "source": [
    "n = input('Introduce el número de pruebas: ')\n",
    "foundQrs = qrQuery.getLatestRegistersQrs(int(n))\n",
    "print('\\nLos qrs dentro de los últimos {} registros de DATOS son: {}'.format(n,list(foundQrs)))\n",
    "print('\\nLos qrs están ordenados el primero como el más reciente')"
   ]
  },
  {
   "cell_type": "code",
   "execution_count": null,
   "metadata": {},
   "outputs": [],
   "source": []
  }
 ],
 "metadata": {
  "kernelspec": {
   "display_name": "Python 3",
   "language": "python",
   "name": "python3"
  },
  "language_info": {
   "codemirror_mode": {
    "name": "ipython",
    "version": 3
   },
   "file_extension": ".py",
   "mimetype": "text/x-python",
   "name": "python",
   "nbconvert_exporter": "python",
   "pygments_lexer": "ipython3",
   "version": "3.5.2"
  }
 },
 "nbformat": 4,
 "nbformat_minor": 2
}
