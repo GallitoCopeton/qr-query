{
 "cells": [
  {
   "cell_type": "markdown",
   "metadata": {
    "deleteable": false,
    "editable": false
   },
   "source": [
    "# Correr esta celda al iniciar"
   ]
  },
  {
   "cell_type": "code",
   "execution_count": null,
   "metadata": {
    "deleteable": false
   },
   "outputs": [],
   "source": [
    "import sys\n",
    "import io\n",
    "import os\n",
    "import re\n",
    "\n",
    "import cv2\n",
    "import numpy as np\n",
    "from pyzbar.pyzbar import decode\n",
    "import ipywidgets as widgets\n",
    "from IPython.display import display\n",
    "from PIL import Image\n",
    "from matplotlib import pyplot as plt\n",
    "\n",
    "sys.path.insert(0, '../QR Query/Query QRs/Scripts')\n",
    "sys.path.insert(0, '../FIND/Golden Master (AS IS)')\n",
    "import qr_query\n",
    "import read_image as ri\n",
    "from Browser import Browser\n",
    "from DataBrowser import DataBrowser\n"
   ]
  },
  {
   "cell_type": "markdown",
   "metadata": {
    "deleteable": false,
    "editable": false
   },
   "source": [
    "# Elige cómo hacer la búsqueda"
   ]
  },
  {
   "cell_type": "code",
   "execution_count": null,
   "metadata": {
    "deleteable": false
   },
   "outputs": [],
   "source": [
    "folder = './qrsSubidos/'\n",
    "if not os.path.isdir(folder):\n",
    "    os.mkdir(folder)\n",
    "option = widgets.ToggleButtons(\n",
    "    options=['Escribir QR', 'Seleccionar archivo', 'Rango QR'],\n",
    "    description='Búsqueda:',\n",
    "    disabled=False,\n",
    "    button_style='info', # 'success', 'info', 'warning', 'danger' or ''\n",
    ")\n",
    "display(option)\n",
    "print('Después de seleccionar, corre la siguiente celda')"
   ]
  },
  {
   "cell_type": "markdown",
   "metadata": {
    "deleteable": false,
    "editable": false
   },
   "source": [
    "# Escribe QRs o sube imágenes"
   ]
  },
  {
   "cell_type": "code",
   "execution_count": null,
   "metadata": {
    "deleteable": false
   },
   "outputs": [],
   "source": [
    "if option.value == 'Escribir QR':\n",
    "    textQrs = widgets.Text(\n",
    "        value='',\n",
    "        placeholder='Escribe un código válido de QR',\n",
    "        description='Código QR:',\n",
    "        disabled=False\n",
    "    )\n",
    "    display(textQrs)\n",
    "    print('Puedes introducir varios separando con espacios o comas')\n",
    "elif option.value == 'Seleccionar archivo':\n",
    "    uploads = widgets.FileUpload(\n",
    "        accept='.jpg',\n",
    "        multiple=True, # True to accept multiple files upload else False\n",
    "        description='Imagen'\n",
    "    )\n",
    "    display(uploads)\n",
    "elif option.value == 'Rango QR':\n",
    "    textRange = widgets.Text(\n",
    "        value='',\n",
    "        placeholder='Código de inicio y de final',\n",
    "        description='Rangos QR:',\n",
    "        disabled=False\n",
    "    )\n",
    "    display(textRange)\n",
    "print('Luego de terminar, corre la siguiente celda')"
   ]
  },
  {
   "cell_type": "markdown",
   "metadata": {
    "deleteable": false,
    "editable": false
   },
   "source": [
    "# Comenzar búsqueda"
   ]
  },
  {
   "cell_type": "code",
   "execution_count": null,
   "metadata": {
    "deleteable": false,
    "scrolled": false
   },
   "outputs": [],
   "source": [
    "csvName = 'Query.csv'\n",
    "csvFolder = 'Hojas de datos'\n",
    "qrList = []\n",
    "if not os.path.isdir(csvFolder):\n",
    "    os.mkdir(csvFolder)\n",
    "csvFile = os.path.join(csvFolder, csvName)\n",
    "if option.value == 'Escribir QR':\n",
    "    qrList = qr_query.splitInputQrs(textQrs.value)\n",
    "    if not qrList:\n",
    "        print('Escribe un QR arriba')\n",
    "elif option.value == 'Rango QR':\n",
    "    inputList = qr_query.splitInputQrs(textRange.value)\n",
    "    if inputList:\n",
    "        if len(inputList) == 2:\n",
    "            if inputList[0] > inputList[1]:\n",
    "                start = int(inputList[1])\n",
    "                finish = int(inputList[0])\n",
    "            else:\n",
    "                start = int(inputList[0])\n",
    "                finish = int(inputList[1])\n",
    "            qrList = np.arange(start, finish+1, 1)\n",
    "            qrList = [str(qr) for qr in qrList]\n",
    "        else:\n",
    "            print('Escribe un QR de inicio y uno de final\\n')\n",
    "    else:\n",
    "        print('El espacio de escritura está vacío')\n",
    "elif option.value == 'Seleccionar archivo':\n",
    "    for upload in uploads.metadata:\n",
    "        fileName = upload['name']\n",
    "        imageBytes = uploads.value[upload['name']]['content']\n",
    "        imageBytes = io.BytesIO(imageBytes)\n",
    "        image = Image.open(imageBytes)\n",
    "        qr = str(decode(image)[0][0])[2:-1]\n",
    "        qrList.append(qr)\n",
    "    if len(qrList) == 0:\n",
    "        print('Ningún QR pudo ser detectado\\n')\n",
    "    elif len(qrList) < len(uploads.metadata):\n",
    "        print('No todos los QR pudieron detectarse\\n')\n",
    "\n",
    "for qr in qrList:\n",
    "    if qr_query.isValidQr(qr):\n",
    "        data = qr_query.getData(qr)\n",
    "        if data is not None:\n",
    "            print('Los datos completos de los QR están en el archivo {}'.format(csvFile))\n",
    "            data.to_csv(csvFile, mode='a', header=False, index=False)\n",
    "        else: \n",
    "            print('No existen registros del QR: {}'.format(qr))\n",
    "        images = qr_query.getImages(qr)\n",
    "        nImages = len(images)\n",
    "        if nImages > 0:\n",
    "            amount = int(input('Se encontraron {} imágenes, cuántas deseas mostrar? '.format(nImages)))\n",
    "            while True:\n",
    "                if amount <= 0 or amount > nImages:\n",
    "                    amount = int(input('Selecciona un número entre 1 y {} '.format(nImages))) \n",
    "                else:\n",
    "                    break\n",
    "            ri.showImages(images[0:amount], amount)\n",
    "        else:\n",
    "            print('No existen imagenes del QR: {}\\n'.format(qr))\n",
    "    else:\n",
    "        print('El QR: {} es inválido'.format(qr))\n",
    "        continue\n",
    "        \n",
    "print('Búsqueda terminada')"
   ]
  },
  {
   "cell_type": "code",
   "execution_count": null,
   "metadata": {},
   "outputs": [],
   "source": []
  }
 ],
 "metadata": {
  "celltoolbar": "Raw Cell Format",
  "kernelspec": {
   "display_name": "Python 3",
   "language": "python",
   "name": "python3"
  },
  "language_info": {
   "codemirror_mode": {
    "name": "ipython",
    "version": 3
   },
   "file_extension": ".py",
   "mimetype": "text/x-python",
   "name": "python",
   "nbconvert_exporter": "python",
   "pygments_lexer": "ipython3",
   "version": "3.5.2"
  }
 },
 "nbformat": 4,
 "nbformat_minor": 2
}
